{
 "cells": [
  {
   "cell_type": "code",
   "execution_count": 52,
   "id": "d24dbae2-b862-45e9-a996-6dc83f2afbc0",
   "metadata": {},
   "outputs": [
    {
     "name": "stdout",
     "output_type": "stream",
     "text": [
      "sdfhjhblj\n",
      "{'s': 0, 'd': 1, 'f': 2, 'h': 5, 'j': 8, 'b': 6, 'l': 7}\n"
     ]
    }
   ],
   "source": [
    "#7.1\n",
    "a=input()\n",
    "dict = {i: j for j, i in enumerate(a)}\n",
    "print(dict)"
   ]
  },
  {
   "cell_type": "code",
   "execution_count": 51,
   "id": "ff9344ab",
   "metadata": {},
   "outputs": [
    {
     "name": "stdout",
     "output_type": "stream",
     "text": [
      "ващр\n",
      "0\n"
     ]
    }
   ],
   "source": [
    "#7.2\n",
    "a=input().split()\n",
    "c={'ноль', 'один'}\n",
    "count=0\n",
    "for i in a:\n",
    "    for j in c:\n",
    "        if i==j:\n",
    "            count+=1\n",
    "print(count)"
   ]
  },
  {
   "cell_type": "code",
   "execution_count": 77,
   "id": "404bbcc1",
   "metadata": {},
   "outputs": [
    {
     "name": "stdout",
     "output_type": "stream",
     "text": [
      "{'e': 3, 'v': 1, 'g': 1, 'n': 1, '_': 1, 'o': 1}\n",
      "7\n"
     ]
    }
   ],
   "source": [
    "#7.3\n",
    "a='evgene_o'\n",
    "dict={i: a.count(i) for i in a}\n",
    "print(dict)\n",
    "\n",
    "#7.4\n",
    "count=sum(value for key, value in dict.items() if key.islower())\n",
    "print(count)"
   ]
  },
  {
   "cell_type": "code",
   "execution_count": 144,
   "id": "ca62c1eb",
   "metadata": {},
   "outputs": [
    {
     "name": "stdout",
     "output_type": "stream",
     "text": [
      "1. {'ноль': 0, 'один': 1, 'два': 2, 'три': 3, 'четыре': 4, 'пять': 5}\n",
      "2. 15\n",
      "3. 0\n"
     ]
    },
    {
     "ename": "TypeError",
     "evalue": "unsupported operand type(s) for +: 'int' and 'str'",
     "output_type": "error",
     "traceback": [
      "\u001b[1;31m---------------------------------------------------------------------------\u001b[0m",
      "\u001b[1;31mTypeError\u001b[0m                                 Traceback (most recent call last)",
      "Cell \u001b[1;32mIn[144], line 19\u001b[0m\n\u001b[0;32m     16\u001b[0m \u001b[38;5;28mprint\u001b[39m(\u001b[38;5;124m'\u001b[39m\u001b[38;5;124m3.\u001b[39m\u001b[38;5;124m'\u001b[39m,j)\n\u001b[0;32m     18\u001b[0m \u001b[38;5;66;03m#7.8\u001b[39;00m\n\u001b[1;32m---> 19\u001b[0m a\u001b[38;5;241m=\u001b[39m\u001b[38;5;28msum\u001b[39m(key\u001b[38;5;241m*\u001b[39mvalue \u001b[38;5;28;01mfor\u001b[39;00m key, value \u001b[38;5;129;01min\u001b[39;00m dic4\u001b[38;5;241m.\u001b[39mitems())\n\u001b[0;32m     20\u001b[0m \u001b[38;5;28mprint\u001b[39m(\u001b[38;5;124m'\u001b[39m\u001b[38;5;124m4.\u001b[39m\u001b[38;5;124m'\u001b[39m, a)\n",
      "\u001b[1;31mTypeError\u001b[0m: unsupported operand type(s) for +: 'int' and 'str'"
     ]
    }
   ],
   "source": [
    "#7.5\n",
    "dic1={'ноль':0}\n",
    "dic2={'один':1, 'два':2}\n",
    "dic3={'три':3,'четыре':4,'пять':5}\n",
    "dic4={**dic1,**dic2,**dic3}\n",
    "print('1.',dic4)\n",
    "\n",
    "#7.6\n",
    "a=sum(dic4.values())\n",
    "print('2.',a)\n",
    "\n",
    "#7.7\n",
    "j=1\n",
    "for i in dic4.values():\n",
    "    j*=i\n",
    "print('3.',j)\n",
    "\n",
    "#7.8\n",
    "a=sum(key*value for key, value in dic4.items())\n",
    "print('4.', a)"
   ]
  },
  {
   "cell_type": "code",
   "execution_count": 159,
   "id": "35a74942",
   "metadata": {},
   "outputs": [
    {
     "name": "stdout",
     "output_type": "stream",
     "text": [
      "{'один': 1, 'два': 2}\n",
      "{'три': 3, 'четыре': 4, 'пять': 5, 'один': 1, 'два': 2}\n"
     ]
    }
   ],
   "source": [
    "#7.9\n",
    "dic6={'один':1, 'два':2,'четыре':4}\n",
    "dic5={'три':3,'четыре':4,'пять':5}\n",
    "dic7 = {key: value for key, value in dic6.items() if key not in dic5}\n",
    "print(dic7)\n",
    "\n",
    "#7.10\n",
    "dic8={**dic5,**dic6}\n",
    "print(dic8)"
   ]
  },
  {
   "cell_type": "code",
   "execution_count": 3,
   "id": "3c371c30",
   "metadata": {},
   "outputs": [
    {
     "name": "stdout",
     "output_type": "stream",
     "text": [
      "[1, 2, 3, 4, 5]\n"
     ]
    }
   ],
   "source": [
    "#7.11\n",
    "ri1 = [3, 1, 2, 2, 3, 4, 5]\n",
    "a = sorted(set(ri1))\n",
    "print(a)"
   ]
  },
  {
   "cell_type": "code",
   "execution_count": 7,
   "id": "5f29255c",
   "metadata": {},
   "outputs": [
    {
     "name": "stdout",
     "output_type": "stream",
     "text": [
      "[1, 3, 4, 6, 7, 9]\n"
     ]
    }
   ],
   "source": [
    "#7.11.2\n",
    "a=[[1, 2, 3], [4, 5, 6], [7, 8, 9]]\n",
    "b=[i[0] for i in a] + [i[-1] for i in a]\n",
    "print(sorted(b))"
   ]
  }
 ],
 "metadata": {
  "kernelspec": {
   "display_name": "Python 3 (ipykernel)",
   "language": "python",
   "name": "python3"
  },
  "language_info": {
   "codemirror_mode": {
    "name": "ipython",
    "version": 3
   },
   "file_extension": ".py",
   "mimetype": "text/x-python",
   "name": "python",
   "nbconvert_exporter": "python",
   "pygments_lexer": "ipython3",
   "version": "3.11.4"
  }
 },
 "nbformat": 4,
 "nbformat_minor": 5
}
