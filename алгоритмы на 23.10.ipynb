{
 "cells": [
  {
   "cell_type": "code",
   "execution_count": null,
   "id": "e4268c26",
   "metadata": {},
   "outputs": [],
   "source": [
    "#4.1\n",
    "a=(input('Введите первую строку:'))\n",
    "b=(input('Введите вторую строку:'))\n",
    "n=\"\"\n",
    "for i in a:\n",
    "    if i in b:\n",
    "        n+=i\n",
    "print(n)"
   ]
  },
  {
   "cell_type": "code",
   "execution_count": null,
   "id": "b93258fb",
   "metadata": {},
   "outputs": [],
   "source": [
    "#3.5\n",
    "a=input('Введите строку:')\n",
    "if '!!!' in a and a[:3]!='!!!' and '???' not in a:\n",
    "    print('Exclaim')\n",
    "elif str(a[:3])=='!!!':\n",
    "    print('Nota bene:', str(a[3:]))\n",
    "elif '???' in a and '!!!' not in a:\n",
    "    print('Question')\n",
    "elif '???' and '!!!' in a:\n",
    "    print('None')\n",
    "else:\n",
    "    print('Random')"
   ]
  },
  {
   "cell_type": "code",
   "execution_count": null,
   "id": "61cf771a",
   "metadata": {},
   "outputs": [],
   "source": [
    "#3.6- ниче не понятно\n",
    "s1 = input('Введите первую строку:')\n",
    "a = int(input('Введите целое число:'))\n",
    "s2 = input('Введите вторую строку:')\n",
    "#if len()\n",
    "if s1 and not a - 5 and not s2:\n",
    "    print('Правильный ответ')\n",
    "else:\n",
    "    print('Ответ неправильный, попробуйте еще раз.')"
   ]
  },
  {
   "cell_type": "code",
   "execution_count": null,
   "id": "e45479c4",
   "metadata": {},
   "outputs": [],
   "source": [
    "#3.7\n",
    "x=input('Введите первое предложение:')\n",
    "b=input('Введите второе предложение:')\n",
    "if b in x:\n",
    "    print(True)\n",
    "else:\n",
    "    x+=b\n",
    "    print(x)"
   ]
  },
  {
   "cell_type": "code",
   "execution_count": 1,
   "id": "6be06916",
   "metadata": {},
   "outputs": [
    {
     "name": "stdout",
     "output_type": "stream",
     "text": [
      "[' string', 'String', '_string', 'strinG', 'string', 'string ', 'stringlong']\n",
      "True\n"
     ]
    }
   ],
   "source": [
    "#3.4\n",
    "s1 = 'string'\n",
    "s2 = 'String'\n",
    "s3 = 'strinG'\n",
    "s4 = 'stringlong'\n",
    "s5 = ' string'\n",
    "s6 = 'string '\n",
    "s7 = '_string'\n",
    "spisok=[s1,s2,s3,s4,s5,s6,s7]\n",
    "spisok.sort()\n",
    "print(spisok)\n",
    "if s5<s2<s7<s3<s1<s6<s4:\n",
    "    print(True)\n",
    "else: print(False)"
   ]
  },
  {
   "cell_type": "code",
   "execution_count": 4,
   "id": "d2fc6824",
   "metadata": {},
   "outputs": [
    {
     "name": "stdout",
     "output_type": "stream",
     "text": [
      "3840\n"
     ]
    }
   ],
   "source": [
    "#4.2\n",
    "num=10\n",
    "df=1\n",
    "while num>1:\n",
    "    df*=num\n",
    "    num-=2\n",
    "print(df)"
   ]
  },
  {
   "cell_type": "code",
   "execution_count": 8,
   "id": "8c181c6c",
   "metadata": {},
   "outputs": [
    {
     "name": "stdout",
     "output_type": "stream",
     "text": [
      "9\n",
      "945\n"
     ]
    }
   ],
   "source": [
    "#4.3\n",
    "num=int(input())\n",
    "for i in range(num-2,0,-2):\n",
    "    num*=i\n",
    "print(num)"
   ]
  },
  {
   "cell_type": "code",
   "execution_count": 11,
   "id": "4c3c3d0c",
   "metadata": {},
   "outputs": [
    {
     "name": "stdout",
     "output_type": "stream",
     "text": [
      "11\n",
      "13\n",
      "17\n",
      "19\n",
      "23\n",
      "29\n",
      "31\n",
      "37\n",
      "41\n",
      "43\n",
      "47\n"
     ]
    }
   ],
   "source": [
    "#4.4\n",
    "a=10\n",
    "b=50\n",
    "for i in range(a,b+1):\n",
    "    for d in range(2,i):\n",
    "        if i%d==0:\n",
    "            break\n",
    "    else:\n",
    "        if i>1:\n",
    "            print(i)"
   ]
  },
  {
   "cell_type": "code",
   "execution_count": 5,
   "id": "fae43303",
   "metadata": {},
   "outputs": [
    {
     "name": "stdout",
     "output_type": "stream",
     "text": [
      "Введите значение: варапо\n",
      "____________варапо____________\n"
     ]
    }
   ],
   "source": [
    "#4.5\n",
    "while True:\n",
    "    user_input=input(\"Введите значение: \")\n",
    "    \n",
    "    if user_input==\"STOP\":\n",
    "        print(\"Program interrupted by user\")\n",
    "        break\n",
    "    \n",
    "    if user_input<\"a\":\n",
    "        print(\"Too early in the dictionary. Try again!\")\n",
    "        continue\n",
    "    \n",
    "    formatted_string=user_input.center(30, \"_\")\n",
    "    print(formatted_string)\n",
    "    break"
   ]
  },
  {
   "cell_type": "code",
   "execution_count": null,
   "id": "d62a8a68",
   "metadata": {},
   "outputs": [],
   "source": [
    "#4.6\n",
    "a=\"Hello world!\"\n",
    "la=len(a)\n",
    "res=\"\"\n",
    "for i, j in enumerate(a):\n",
    "    if (la%(i+1))==0:\n",
    "        res+=j       \n",
    "print(res)"
   ]
  },
  {
   "cell_type": "code",
   "execution_count": 4,
   "id": "556a070e",
   "metadata": {},
   "outputs": [
    {
     "name": "stdout",
     "output_type": "stream",
     "text": [
      "['aaa', 'bbb', 'ccc', 'ddd']\n"
     ]
    }
   ],
   "source": [
    "#5.1\n",
    "import re\n",
    "a = 'aaa--bbb==ccc__ddd'\n",
    "d = re.split('--|==|__', a)\n",
    "print(d)"
   ]
  },
  {
   "cell_type": "code",
   "execution_count": 5,
   "id": "16f09c8b",
   "metadata": {},
   "outputs": [
    {
     "name": "stdout",
     "output_type": "stream",
     "text": [
      "Введите строку:Yesterday, All my troubles seemed so far away\n",
      "Yesterday,\n"
     ]
    }
   ],
   "source": [
    "#5.2\n",
    "a = input('Введите строку:')\n",
    "f = a.split()[0]\n",
    "print(f)"
   ]
  },
  {
   "cell_type": "code",
   "execution_count": null,
   "id": "babe0d67",
   "metadata": {},
   "outputs": [],
   "source": [
    "#5.3\n",
    "a = input('Введите строку:')\n",
    "f = a.split()[-1]\n",
    "print(f)"
   ]
  },
  {
   "cell_type": "code",
   "execution_count": null,
   "id": "d28dd338",
   "metadata": {},
   "outputs": [],
   "source": [
    "#5.6\n",
    "import re\n",
    "email = input(\"Введите e-mail адрес: \")\n",
    "regex = r'^[a-zA-Z0-9._%+-]+@[a-zA-Z0-9.-]+\\.[a-zA-Z]{2,}$'\n",
    "if re.match(regex, email):\n",
    "    print(\"E-mail адрес введен в правильном формате.\")\n",
    "else:\n",
    "    print(\"E-mail адрес введен в неправильном формате.\")"
   ]
  },
  {
   "cell_type": "code",
   "execution_count": 3,
   "id": "a798e4cb",
   "metadata": {},
   "outputs": [
    {
     "name": "stdout",
     "output_type": "stream",
     "text": [
      "Доменные имена:\n",
      "gmail.com\n",
      "yahoo.com\n",
      "hotmail.com\n"
     ]
    }
   ],
   "source": [
    "#5.7\n",
    "import re\n",
    "a= \"Пример текста с электронными адресами example1@gmail.com, example2@yahoo.com, example3@hotmail.com\"\n",
    "rex= r'\\b[A-Za-z0-9._%+-]+@[A-Za-z0-9.-]+\\.[A-Za-z]{2,}\\b'\n",
    "address = re.findall(rex, a)\n",
    "dom = [address.split('@')[1] for address in address]\n",
    "print(\"Доменные имена:\")\n",
    "for dom in dom:\n",
    "    print(dom)"
   ]
  },
  {
   "cell_type": "code",
   "execution_count": 4,
   "id": "88b64443",
   "metadata": {},
   "outputs": [
    {
     "name": "stdout",
     "output_type": "stream",
     "text": [
      "Введите номер мобильного телефона: +7 980 987 44 53\n",
      "Номер мобильного телефона введен в правильном формате.\n"
     ]
    }
   ],
   "source": [
    "#5.8\n",
    "import re\n",
    "num=input(\"Введите номер мобильного телефона: \")\n",
    "rex=r'^\\+7(\\s?\\d{3}){2}-\\d{2}-\\d{2}$|^\\+7\\s?\\d{3}\\s?\\d{3}-\\d{2}-\\d{2}$|^\\+7\\s?\\d{3}\\s?\\d{3}\\s?\\d{2}\\s?\\d{2}$'\n",
    "if re.match(rex, num):\n",
    "    print(\"Номер мобильного телефона введен в правильном формате.\")\n",
    "else:\n",
    "    print(\"Номер мобильного телефона введен в неправильном формате.\")"
   ]
  }
 ],
 "metadata": {
  "kernelspec": {
   "display_name": "Python 3 (ipykernel)",
   "language": "python",
   "name": "python3"
  },
  "language_info": {
   "codemirror_mode": {
    "name": "ipython",
    "version": 3
   },
   "file_extension": ".py",
   "mimetype": "text/x-python",
   "name": "python",
   "nbconvert_exporter": "python",
   "pygments_lexer": "ipython3",
   "version": "3.11.4"
  }
 },
 "nbformat": 4,
 "nbformat_minor": 5
}
