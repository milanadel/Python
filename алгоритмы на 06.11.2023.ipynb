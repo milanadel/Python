{
 "cells": [
  {
   "cell_type": "code",
   "execution_count": 10,
   "id": "60a5c8bd",
   "metadata": {},
   "outputs": [
    {
     "name": "stdout",
     "output_type": "stream",
     "text": [
      "[31, 24, 17]\n",
      "[31, 24, 17]\n",
      "[31, 24, 17]\n"
     ]
    }
   ],
   "source": [
    "#6.1\n",
    "num=[31,24,17]\n",
    "num2=num[:]\n",
    "num3=list(range(31,16,-7))\n",
    "print(num)\n",
    "print(num2)\n",
    "print(num3)"
   ]
  },
  {
   "cell_type": "code",
   "execution_count": 12,
   "id": "ede41e57",
   "metadata": {},
   "outputs": [
    {
     "name": "stdout",
     "output_type": "stream",
     "text": [
      "Введите строку:#6.2.\n",
      "['#', '6', '.', '2', '.']\n"
     ]
    }
   ],
   "source": [
    "#6.2.1\n",
    "a=input('Введите строку:')\n",
    "print(list(a))"
   ]
  },
  {
   "cell_type": "code",
   "execution_count": 3,
   "id": "a2f0d72b",
   "metadata": {},
   "outputs": [
    {
     "name": "stdout",
     "output_type": "stream",
     "text": [
      "Введите строку:sdhfb5 eiut4 5\n",
      "['sdhfb5', 'eiut4', '5']\n"
     ]
    }
   ],
   "source": [
    "#6.2.2\n",
    "a=input('Введите строку:')\n",
    "print(a.split())"
   ]
  },
  {
   "cell_type": "code",
   "execution_count": 6,
   "id": "893fff79",
   "metadata": {},
   "outputs": [
    {
     "name": "stdout",
     "output_type": "stream",
     "text": [
      "Введите строку:dfkgb6jybrkjb6\n",
      "[6, 6]\n"
     ]
    }
   ],
   "source": [
    "#6.2.3\n",
    "a=input(\"Введите строку:\")\n",
    "digits_list = [int(i) for i in a if i.isdigit()]\n",
    "print(digits_list)"
   ]
  },
  {
   "cell_type": "code",
   "execution_count": 2,
   "id": "9f286c0c",
   "metadata": {
    "scrolled": true
   },
   "outputs": [
    {
     "name": "stdout",
     "output_type": "stream",
     "text": [
      "Введите строку:sdlkfjh sldhjfgb repeat 5\n",
      "['sdlkfjh', 'sldhjfgb', 'sdlkfjh', 'sldhjfgb', 'repeat', '5']\n"
     ]
    }
   ],
   "source": [
    "# 6.3\n",
    "a=input('Введите строку:')\n",
    "a=a.split()\n",
    "b=[]\n",
    "if 'repeat' in a and str(a[-1].isdigit()):\n",
    "    b = a[:-2] * 2\n",
    "    b.extend(a[-2:])\n",
    "    a[0]=b\n",
    "print(b)"
   ]
  },
  {
   "cell_type": "code",
   "execution_count": 6,
   "id": "9c7ff44b",
   "metadata": {},
   "outputs": [
    {
     "name": "stdout",
     "output_type": "stream",
     "text": [
      "Введте строку:Яблоко\n",
      "Введте строку:яблоко\n",
      "Строка 'Яблоко' идет ПЕРЕД строкой 'яблоко'.\n"
     ]
    }
   ],
   "source": [
    "#6.4\n",
    "s1 = input('Введте строку:')\n",
    "s2 = input('Введте строку:')\n",
    "lengths = [len(s1), len(s2)]\n",
    "\n",
    "order = ''\n",
    "if s1 < s2:\n",
    "    order = f\"Строка '{s1}' идет ПЕРЕД строкой '{s2}'.\"\n",
    "elif s1 > s2:\n",
    "    order = f\"Строка '{s1}' идет ПОСЛЕ строки '{s2}'.\"\n",
    "else:\n",
    "    order = \"Строки равны.\"\n",
    "print(order)"
   ]
  },
  {
   "cell_type": "code",
   "execution_count": 17,
   "id": "0463c750",
   "metadata": {},
   "outputs": [
    {
     "name": "stdout",
     "output_type": "stream",
     "text": [
      "Введите значение для max_val: 9\n",
      "Введите значение для repeat: 2\n",
      "[1, 2, 3, 4, 5, 6, 7, 8, 9, 1, 2, 3, 4, 5, 6, 7, 8, 9]\n",
      "9\n",
      "7\n",
      "[1, 2, 8, 9]\n",
      "[1, 2, 30, 40, 50, 60, 70, 8, 9, 1, 2, 30, 40, 50, 60, 70, 8, 9]\n"
     ]
    }
   ],
   "source": [
    "#6.5.1\n",
    "max_val = int(input(\"Введите значение для max_val: \"))\n",
    "repeat = int(input(\"Введите значение для repeat: \"))\n",
    "a = list(range(1, max_val + 1)) * repeat\n",
    "print(a)\n",
    "\n",
    "#6.5.2\n",
    "copied_list = a[:]\n",
    "middle_index = len(copied_list) // 2\n",
    "print(middle_index)\n",
    "elements_to_remove = int(0.8 * middle_index)\n",
    "print(elements_to_remove)\n",
    "del copied_list[middle_index - elements_to_remove:middle_index + elements_to_remove]\n",
    "print(copied_list)\n",
    "for i in range(len(a)):\n",
    "    if a[i] not in copied_list:\n",
    "        a[i] *= 10\n",
    "print(a)"
   ]
  },
  {
   "cell_type": "code",
   "execution_count": 4,
   "id": "135e7612",
   "metadata": {},
   "outputs": [
    {
     "name": "stdout",
     "output_type": "stream",
     "text": [
      "['t', 'e', 'eet', 't', '_', '__t', 't', 'r', 'i', 'n', 'g', 'ggs', 's']\n"
     ]
    }
   ],
   "source": [
    "#6.6\n",
    "a=\"test_Stringss\"\n",
    "string_list=[]\n",
    "\n",
    "for i in range(len(a)):\n",
    "    if a[i].lower()==\"s\":\n",
    "        if i!=0 and i!= len(a)-1:\n",
    "            substring = a[i-1]*2 + a[i+1]\n",
    "            string_list.append(substring)\n",
    "        else: \n",
    "            string_list.append(a[i])\n",
    "    else:\n",
    "        string_list.append(a[i])\n",
    "print(string_list)"
   ]
  },
  {
   "cell_type": "code",
   "execution_count": 4,
   "id": "a89db4bf",
   "metadata": {},
   "outputs": [
    {
     "name": "stdout",
     "output_type": "stream",
     "text": [
      "Введите длину списка: 2\n",
      "Введите значение: true\n",
      "Введите значение: False\n",
      "['true', 'False']\n"
     ]
    }
   ],
   "source": [
    "#6.7\n",
    "d = int(input(\"Введите длину списка: \"))\n",
    "a = []\n",
    "for i in range(d):\n",
    "    value = input(\"Введите значение: \")\n",
    "    if value.isdigit():\n",
    "        a.append(int(value))\n",
    "    elif value.lower() == \"True\":\n",
    "        a.append(True)\n",
    "    elif value.lower() == \"False\":\n",
    "        a.append(False)\n",
    "    else:\n",
    "        a.append(value)\n",
    "print(a)"
   ]
  },
  {
   "cell_type": "code",
   "execution_count": 24,
   "id": "6acd361a",
   "metadata": {},
   "outputs": [
    {
     "name": "stdout",
     "output_type": "stream",
     "text": [
      "Введите строку:1 2 3 \n",
      "Введите строку:q w e \n",
      "1 q 2 w 3 e \n"
     ]
    }
   ],
   "source": [
    "#6.8/9\n",
    "a = input(\"Введите строку:\")\n",
    "b = input(\"Введите строку:\")\n",
    "a = a.split()\n",
    "b = b.split()\n",
    "c = \"\"\n",
    "for i, j in zip(a, b):\n",
    "    c+= i + \" \" + j + \" \"\n",
    "print(c)"
   ]
  },
  {
   "cell_type": "code",
   "execution_count": 16,
   "id": "a46c2c1e",
   "metadata": {},
   "outputs": [
    {
     "name": "stdout",
     "output_type": "stream",
     "text": [
      "Введите строку:раз два три четыре пять шесть\n",
      "Введите число сдвига:3\n",
      "четыре пять шесть раз два три\n"
     ]
    }
   ],
   "source": [
    "#6.10\n",
    "a=input(\"Введите строку:\")\n",
    "shift=int(input('Введите число сдвига:'))\n",
    "words=a.split()\n",
    "shifted_words=words[shift:] + words[:shift]\n",
    "с=\" \".join(shifted_words)\n",
    "print(с)"
   ]
  },
  {
   "cell_type": "code",
   "execution_count": 3,
   "id": "e1f6c8ae",
   "metadata": {},
   "outputs": [
    {
     "name": "stdout",
     "output_type": "stream",
     "text": [
      "Введите кол-во элементов:4\n",
      "Введите значение:3\n",
      "Введите значение:6\n",
      "Введите значение:7\n",
      "Введите значение:12\n",
      "[3, 6, 7, 12]\n",
      "[3, 2, 3, 7, 2, 2, 3]\n"
     ]
    }
   ],
   "source": [
    "#6.11\n",
    "num = [int(input('Введите значение:')) for _ in range(int(input('Введите кол-во элементов:')))]\n",
    "print(num)\n",
    "res = []\n",
    "for j in num:\n",
    "    factors = []\n",
    "    i = 2\n",
    "    while i <= j:\n",
    "        if j % i == 0:\n",
    "            j/=i\n",
    "            factors.append(i)\n",
    "        else:\n",
    "            i += 1\n",
    "    res.extend(factors)\n",
    "print(res)"
   ]
  },
  {
   "cell_type": "code",
   "execution_count": 33,
   "id": "75c1a984",
   "metadata": {},
   "outputs": [
    {
     "name": "stdout",
     "output_type": "stream",
     "text": [
      "Введите кол-во элементов:5\n",
      "Введите значение:2\n",
      "Введите значение:3\n",
      "Введите значение:7\n",
      "Введите значение:9\n",
      "Введите значение:2\n",
      "[2, 3, 7, 9, 2]\n",
      "Значение, меньше или равное только одному значению из списка: 7\n",
      "3\n"
     ]
    }
   ],
   "source": [
    "#6.12\n",
    "num=[int(input('Введите значение:')) for _ in range(int(input('Введите кол-во элементов:')))]\n",
    "print(num)\n",
    "u=None\n",
    "for i in num:\n",
    "    if num.count(i)==1:\n",
    "        u=i\n",
    "if u is None:\n",
    "    print(\"В списке нет значения, соответствующего условию.\")\n",
    "else:\n",
    "    print(\"Значение, меньше или равное только одному значению из списка:\", unique_value)\n",
    "    \n",
    "#6.13\n",
    "index = num.index(u)\n",
    "print(index)    "
   ]
  },
  {
   "cell_type": "code",
   "execution_count": 5,
   "id": "2a12ad3e",
   "metadata": {},
   "outputs": [
    {
     "name": "stdout",
     "output_type": "stream",
     "text": [
      "6\n"
     ]
    }
   ],
   "source": [
    "#6.14\n",
    "numbers=[1, 2, 1, 3, 4, 1, 5, 6, 1]\n",
    "print(numbers[-3]+1)"
   ]
  },
  {
   "cell_type": "code",
   "execution_count": 55,
   "id": "22d09113",
   "metadata": {},
   "outputs": [
    {
     "name": "stdout",
     "output_type": "stream",
     "text": [
      "[[1, 2], [3, 4]]\n"
     ]
    }
   ],
   "source": [
    "#6.16\n",
    "matrix=[[1, 2], [3, 4]]\n",
    "copy_matrix=[i.copy() for i in matrix]\n",
    "print(copy_matrix)"
   ]
  },
  {
   "cell_type": "code",
   "execution_count": 60,
   "id": "22015bee",
   "metadata": {},
   "outputs": [
    {
     "name": "stdout",
     "output_type": "stream",
     "text": [
      "Введите набор слов:ручка стол ананас яблоко\n",
      "ананас ручка стол яблоко\n"
     ]
    }
   ],
   "source": [
    "#6.17\n",
    "a=input('Введите набор слов:')\n",
    "a=a.split()\n",
    "a=sorted(a)\n",
    "b=\" \".join(a)\n",
    "print(b)"
   ]
  }
 ],
 "metadata": {
  "kernelspec": {
   "display_name": "Python 3 (ipykernel)",
   "language": "python",
   "name": "python3"
  },
  "language_info": {
   "codemirror_mode": {
    "name": "ipython",
    "version": 3
   },
   "file_extension": ".py",
   "mimetype": "text/x-python",
   "name": "python",
   "nbconvert_exporter": "python",
   "pygments_lexer": "ipython3",
   "version": "3.11.4"
  }
 },
 "nbformat": 4,
 "nbformat_minor": 5
}
